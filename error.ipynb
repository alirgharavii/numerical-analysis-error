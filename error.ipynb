{
 "cells": [
  {
   "cell_type": "markdown",
   "source": [
    "# Significant Figures Assignment\n",
    "\n",
    "__author__: alireza gharavi 400222066\n",
    "\n",
    "__course__: Undergraduate Numerical Analysis Course"
   ],
   "metadata": {
    "collapsed": false,
    "pycharm": {
     "name": "#%% md\n"
    }
   }
  },
  {
   "cell_type": "markdown",
   "source": [
    "## 1. First Question:\n",
    "Assume we use $f(x) = x(\\sqrt{x + 1} −\\sqrt{x})$ for computing error of losing significant figures for big\n",
    "xs. Compute errors for six figures."
   ],
   "metadata": {
    "collapsed": false,
    "pycharm": {
     "name": "#%% md\n"
    }
   }
  },
  {
   "cell_type": "code",
   "execution_count": 75,
   "outputs": [
    {
     "data": {
      "text/plain": "        Exact  Approximate   Exact error   Ratio error  Sum transformation\n0    0.414214     0.414214  4.376269e-07  1.056525e-06            0.414214\n1    1.543471     1.543471  3.018702e-07  1.955788e-07            1.543471\n2    4.987562     4.987562  1.120890e-07  2.247370e-08            4.987562\n3   15.807437    15.807437  4.289576e-07  2.713644e-08           15.807437\n4   49.998750    49.998750  6.248544e-08  1.249740e-09           49.998750\n5  158.113488   158.113488  2.744137e-07  1.735549e-09          158.113488",
      "text/html": "<div>\n<style scoped>\n    .dataframe tbody tr th:only-of-type {\n        vertical-align: middle;\n    }\n\n    .dataframe tbody tr th {\n        vertical-align: top;\n    }\n\n    .dataframe thead th {\n        text-align: right;\n    }\n</style>\n<table border=\"1\" class=\"dataframe\">\n  <thead>\n    <tr style=\"text-align: right;\">\n      <th></th>\n      <th>Exact</th>\n      <th>Approximate</th>\n      <th>Exact error</th>\n      <th>Ratio error</th>\n      <th>Sum transformation</th>\n    </tr>\n  </thead>\n  <tbody>\n    <tr>\n      <th>0</th>\n      <td>0.414214</td>\n      <td>0.414214</td>\n      <td>4.376269e-07</td>\n      <td>1.056525e-06</td>\n      <td>0.414214</td>\n    </tr>\n    <tr>\n      <th>1</th>\n      <td>1.543471</td>\n      <td>1.543471</td>\n      <td>3.018702e-07</td>\n      <td>1.955788e-07</td>\n      <td>1.543471</td>\n    </tr>\n    <tr>\n      <th>2</th>\n      <td>4.987562</td>\n      <td>4.987562</td>\n      <td>1.120890e-07</td>\n      <td>2.247370e-08</td>\n      <td>4.987562</td>\n    </tr>\n    <tr>\n      <th>3</th>\n      <td>15.807437</td>\n      <td>15.807437</td>\n      <td>4.289576e-07</td>\n      <td>2.713644e-08</td>\n      <td>15.807437</td>\n    </tr>\n    <tr>\n      <th>4</th>\n      <td>49.998750</td>\n      <td>49.998750</td>\n      <td>6.248544e-08</td>\n      <td>1.249740e-09</td>\n      <td>49.998750</td>\n    </tr>\n    <tr>\n      <th>5</th>\n      <td>158.113488</td>\n      <td>158.113488</td>\n      <td>2.744137e-07</td>\n      <td>1.735549e-09</td>\n      <td>158.113488</td>\n    </tr>\n  </tbody>\n</table>\n</div>"
     },
     "execution_count": 75,
     "metadata": {},
     "output_type": "execute_result"
    }
   ],
   "source": [
    "import sympy as sp\n",
    "import pandas as pd\n",
    "import math\n",
    "def func(x):\n",
    "    return x * (math.sqrt(x + 1) - math.sqrt(x))\n",
    "def func2(x):\n",
    "    return round(x / (math.sqrt(x + 1) + math.sqrt(x)), 6)\n",
    "\n",
    "exacts = []\n",
    "approximates = []\n",
    "exacts_error = []\n",
    "ratio_error = []\n",
    "sum_transformation = []\n",
    "t = 1\n",
    "for i in range(6):\n",
    "    exact_value = func(t)\n",
    "    approximate_value = round(exact_value, 6)\n",
    "    exacts.append(exact_value)\n",
    "    approximates.append(approximate_value)\n",
    "    exacts_error.append(abs(exact_value - approximate_value))\n",
    "    ratio_error.append(abs((exact_value - approximate_value)/exact_value))\n",
    "    sum_transformation.append(func2(t))\n",
    "    t *= 10\n",
    "table = pd.DataFrame()\n",
    "table['Exact'] = exacts\n",
    "table['Approximate'] = approximates\n",
    "table['Exact error'] = exacts_error\n",
    "table['Ratio error'] = ratio_error\n",
    "table['Sum transformation'] = sum_transformation\n",
    "table\n",
    "\n"
   ],
   "metadata": {
    "collapsed": false,
    "pycharm": {
     "name": "#%%\n"
    }
   }
  },
  {
   "cell_type": "markdown",
   "source": [
    "## 2. Second Question:\n",
    "(a) Compute rounding of $\\sqrt{2}$, $\\sqrt{3}$ and $\\sqrt{23}$ with three precise figures."
   ],
   "metadata": {
    "collapsed": false,
    "pycharm": {
     "name": "#%% md\n"
    }
   }
  },
  {
   "cell_type": "code",
   "execution_count": 76,
   "outputs": [
    {
     "data": {
      "text/plain": "[1.414, 1.732, 4.796]"
     },
     "execution_count": 76,
     "metadata": {},
     "output_type": "execute_result"
    }
   ],
   "source": [
    "square_roots3 = []\n",
    "square_roots3.append(round(math.sqrt(2),3))\n",
    "square_roots3.append(round(math.sqrt(3),3))\n",
    "square_roots3.append(round(math.sqrt(23),3))\n",
    "square_roots3"
   ],
   "metadata": {
    "collapsed": false,
    "pycharm": {
     "name": "#%%\n"
    }
   }
  },
  {
   "cell_type": "markdown",
   "source": [
    "(b) Compute rounding of $\\sqrt{2}$, $\\sqrt{3}$ and $\\sqrt{23}$ with four precise figures."
   ],
   "metadata": {
    "collapsed": false,
    "pycharm": {
     "name": "#%% md\n"
    }
   }
  },
  {
   "cell_type": "code",
   "execution_count": 77,
   "outputs": [
    {
     "data": {
      "text/plain": "[1.4142, 1.7321, 4.7958]"
     },
     "execution_count": 77,
     "metadata": {},
     "output_type": "execute_result"
    }
   ],
   "source": [
    "square_roots4 = []\n",
    "square_roots4.append(round(math.sqrt(2),4))\n",
    "square_roots4.append(round(math.sqrt(3),4))\n",
    "square_roots4.append(round(math.sqrt(23),4))\n",
    "square_roots4"
   ],
   "metadata": {
    "collapsed": false,
    "pycharm": {
     "name": "#%%\n"
    }
   }
  },
  {
   "cell_type": "markdown",
   "source": [
    "(c) Compute Error for each of them in above sections"
   ],
   "metadata": {
    "collapsed": false,
    "pycharm": {
     "name": "#%% md\n"
    }
   }
  },
  {
   "cell_type": "code",
   "execution_count": 78,
   "outputs": [
    {
     "data": {
      "text/plain": "{'square roots 2 error': 0.00019999999999997797,\n 'square roots 3 error': 9.999999999998899e-05,\n 'square roots 23 error': 0.00020000000000042206}"
     },
     "execution_count": 78,
     "metadata": {},
     "output_type": "execute_result"
    }
   ],
   "source": [
    "errors = {}\n",
    "errors[\"square roots 2 error\"] = abs(square_roots3[0] - square_roots4[0])\n",
    "errors[\"square roots 3 error\"] = abs(square_roots3[1] - square_roots4[1])\n",
    "errors[\"square roots 23 error\"] = abs(square_roots3[2] - square_roots4[2])\n",
    "errors"
   ],
   "metadata": {
    "collapsed": false,
    "pycharm": {
     "name": "#%%\n"
    }
   }
  },
  {
   "cell_type": "markdown",
   "source": [
    "(d) Consider we use $f(x) = \\frac{1−cos(x)}{x2}$ for computing error of losing significant figures for small xs."
   ],
   "metadata": {
    "collapsed": false,
    "pycharm": {
     "name": "#%% md\n"
    }
   }
  },
  {
   "cell_type": "code",
   "execution_count": 79,
   "outputs": [
    {
     "data": {
      "text/plain": "        Xs     Exact  Approximate   Exact error   Ratio error  \\\n0  1.00000  0.459698       0.4597  2.305868e-06  5.016053e-06   \n1  0.10000  0.499583       0.4996  1.652780e-05  3.308317e-05   \n2  0.01000  0.499996       0.5000  4.166653e-06  8.333375e-06   \n3  0.00100  0.500000       0.5000  4.167450e-08  8.334900e-08   \n4  0.00010  0.500000       0.5000  3.038735e-09  6.077471e-09   \n5  0.00001  0.500000       0.5000  4.137019e-08  8.274036e-08   \n\n   Sum transformation  \n0              0.4597  \n1              0.4996  \n2              0.5000  \n3              0.5000  \n4              0.5000  \n5              0.5000  ",
      "text/html": "<div>\n<style scoped>\n    .dataframe tbody tr th:only-of-type {\n        vertical-align: middle;\n    }\n\n    .dataframe tbody tr th {\n        vertical-align: top;\n    }\n\n    .dataframe thead th {\n        text-align: right;\n    }\n</style>\n<table border=\"1\" class=\"dataframe\">\n  <thead>\n    <tr style=\"text-align: right;\">\n      <th></th>\n      <th>Xs</th>\n      <th>Exact</th>\n      <th>Approximate</th>\n      <th>Exact error</th>\n      <th>Ratio error</th>\n      <th>Sum transformation</th>\n    </tr>\n  </thead>\n  <tbody>\n    <tr>\n      <th>0</th>\n      <td>1.00000</td>\n      <td>0.459698</td>\n      <td>0.4597</td>\n      <td>2.305868e-06</td>\n      <td>5.016053e-06</td>\n      <td>0.4597</td>\n    </tr>\n    <tr>\n      <th>1</th>\n      <td>0.10000</td>\n      <td>0.499583</td>\n      <td>0.4996</td>\n      <td>1.652780e-05</td>\n      <td>3.308317e-05</td>\n      <td>0.4996</td>\n    </tr>\n    <tr>\n      <th>2</th>\n      <td>0.01000</td>\n      <td>0.499996</td>\n      <td>0.5000</td>\n      <td>4.166653e-06</td>\n      <td>8.333375e-06</td>\n      <td>0.5000</td>\n    </tr>\n    <tr>\n      <th>3</th>\n      <td>0.00100</td>\n      <td>0.500000</td>\n      <td>0.5000</td>\n      <td>4.167450e-08</td>\n      <td>8.334900e-08</td>\n      <td>0.5000</td>\n    </tr>\n    <tr>\n      <th>4</th>\n      <td>0.00010</td>\n      <td>0.500000</td>\n      <td>0.5000</td>\n      <td>3.038735e-09</td>\n      <td>6.077471e-09</td>\n      <td>0.5000</td>\n    </tr>\n    <tr>\n      <th>5</th>\n      <td>0.00001</td>\n      <td>0.500000</td>\n      <td>0.5000</td>\n      <td>4.137019e-08</td>\n      <td>8.274036e-08</td>\n      <td>0.5000</td>\n    </tr>\n  </tbody>\n</table>\n</div>"
     },
     "execution_count": 79,
     "metadata": {},
     "output_type": "execute_result"
    }
   ],
   "source": [
    "def func(x):\n",
    "    return ((1 - math.cos(x))/ (x ** 2))\n",
    "def func2(x):\n",
    "    return round((math.sin(x) ** 2)/ ((x ** 2)*(1 + math.cos(x))), 4)\n",
    "\n",
    "xs = []\n",
    "exacts = []\n",
    "approximates = []\n",
    "exacts_error = []\n",
    "ratio_error = []\n",
    "sum_transformation = []\n",
    "t = 1\n",
    "for i in range(6):\n",
    "    exact_value = func(t)\n",
    "    approximate_value = round(exact_value, 4)\n",
    "    xs.append(t)\n",
    "    exacts.append(exact_value)\n",
    "    approximates.append(approximate_value)\n",
    "    exacts_error.append(abs(exact_value - approximate_value))\n",
    "    ratio_error.append(abs((exact_value - approximate_value)/exact_value))\n",
    "    sum_transformation.append(func2(t))\n",
    "    t /= 10\n",
    "table = pd.DataFrame()\n",
    "table['Xs'] = xs\n",
    "table['Exact'] = exacts\n",
    "table['Approximate'] = approximates\n",
    "table['Exact error'] = exacts_error\n",
    "table['Ratio error'] = ratio_error\n",
    "table['Sum transformation'] = sum_transformation\n",
    "table"
   ],
   "metadata": {
    "collapsed": false,
    "pycharm": {
     "name": "#%%\n"
    }
   }
  },
  {
   "cell_type": "markdown",
   "source": [],
   "metadata": {
    "collapsed": false,
    "pycharm": {
     "name": "#%% md\n"
    }
   }
  },
  {
   "cell_type": "markdown",
   "source": [
    "## conclusion\n",
    "though there exist some error, python round function is precisie and has little error"
   ],
   "metadata": {
    "collapsed": false,
    "pycharm": {
     "name": "#%% md\n"
    }
   }
  }
 ],
 "metadata": {
  "kernelspec": {
   "display_name": "Python 3",
   "language": "python",
   "name": "python3"
  },
  "language_info": {
   "codemirror_mode": {
    "name": "ipython",
    "version": 2
   },
   "file_extension": ".py",
   "mimetype": "text/x-python",
   "name": "python",
   "nbconvert_exporter": "python",
   "pygments_lexer": "ipython2",
   "version": "2.7.6"
  }
 },
 "nbformat": 4,
 "nbformat_minor": 0
}